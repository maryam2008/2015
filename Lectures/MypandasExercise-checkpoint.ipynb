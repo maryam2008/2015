{
 "cells": [
  {
   "cell_type": "code",
   "execution_count": 1,
   "metadata": {},
   "outputs": [],
   "source": [
    "import pandas as pd"
   ]
  },
  {
   "cell_type": "code",
   "execution_count": 2,
   "metadata": {},
   "outputs": [
    {
     "ename": "ImportError",
     "evalue": "cannot import name 'Dataframe' from 'pandas' (C:\\Users\\xbblp1a\\AppData\\Local\\Continuum\\anaconda3\\lib\\site-packages\\pandas\\__init__.py)",
     "output_type": "error",
     "traceback": [
      "\u001b[1;31m---------------------------------------------------------------------------\u001b[0m",
      "\u001b[1;31mImportError\u001b[0m                               Traceback (most recent call last)",
      "\u001b[1;32m<ipython-input-2-c02b6effbf39>\u001b[0m in \u001b[0;36m<module>\u001b[1;34m\u001b[0m\n\u001b[0;32m      1\u001b[0m \u001b[1;32mfrom\u001b[0m \u001b[0mpandas\u001b[0m \u001b[1;32mimport\u001b[0m \u001b[0mSeries\u001b[0m\u001b[1;33m\u001b[0m\u001b[1;33m\u001b[0m\u001b[0m\n\u001b[1;32m----> 2\u001b[1;33m \u001b[1;32mfrom\u001b[0m \u001b[0mpandas\u001b[0m \u001b[1;32mimport\u001b[0m \u001b[0mDataframe\u001b[0m\u001b[1;33m\u001b[0m\u001b[1;33m\u001b[0m\u001b[0m\n\u001b[0m",
      "\u001b[1;31mImportError\u001b[0m: cannot import name 'Dataframe' from 'pandas' (C:\\Users\\xbblp1a\\AppData\\Local\\Continuum\\anaconda3\\lib\\site-packages\\pandas\\__init__.py)"
     ]
    }
   ],
   "source": [
    "from pandas import Series\n",
    "from pandas import Dataframe"
   ]
  },
  {
   "cell_type": "code",
   "execution_count": 3,
   "metadata": {},
   "outputs": [],
   "source": [
    "## all imports\n",
    "from IPython.display import HTML\n",
    "import numpy as np\n",
    "import urllib.request as urllib2\n",
    "import bs4 #this is beautiful soup\n",
    "import time\n",
    "import operator\n",
    "import socket\n",
    "#import _Pickle as pickle\n",
    "import re # regular expressions\n",
    "\n",
    "from pandas import Series\n",
    "import pandas as pd\n",
    "from pandas import DataFrame\n",
    "\n",
    "import matplotlib\n",
    "import matplotlib.pyplot as plt\n",
    "%matplotlib inline\n",
    "\n",
    "import seaborn as sns\n",
    "sns.set_context(\"talk\")\n",
    "sns.set_style(\"white\")\n",
    "\n",
    "#from secret import *"
   ]
  },
  {
   "cell_type": "code",
   "execution_count": 7,
   "metadata": {},
   "outputs": [
    {
     "data": {
      "text/html": [
       "<div>\n",
       "<style scoped>\n",
       "    .dataframe tbody tr th:only-of-type {\n",
       "        vertical-align: middle;\n",
       "    }\n",
       "\n",
       "    .dataframe tbody tr th {\n",
       "        vertical-align: top;\n",
       "    }\n",
       "\n",
       "    .dataframe thead th {\n",
       "        text-align: right;\n",
       "    }\n",
       "</style>\n",
       "<table border=\"1\" class=\"dataframe\">\n",
       "  <thead>\n",
       "    <tr style=\"text-align: right;\">\n",
       "      <th></th>\n",
       "      <th>user_id</th>\n",
       "      <th>age</th>\n",
       "      <th>sex</th>\n",
       "      <th>occupation</th>\n",
       "      <th>zip_code</th>\n",
       "    </tr>\n",
       "  </thead>\n",
       "  <tbody>\n",
       "    <tr>\n",
       "      <td>0</td>\n",
       "      <td>1</td>\n",
       "      <td>24</td>\n",
       "      <td>M</td>\n",
       "      <td>technician</td>\n",
       "      <td>85711</td>\n",
       "    </tr>\n",
       "    <tr>\n",
       "      <td>1</td>\n",
       "      <td>2</td>\n",
       "      <td>53</td>\n",
       "      <td>F</td>\n",
       "      <td>other</td>\n",
       "      <td>94043</td>\n",
       "    </tr>\n",
       "    <tr>\n",
       "      <td>2</td>\n",
       "      <td>3</td>\n",
       "      <td>23</td>\n",
       "      <td>M</td>\n",
       "      <td>writer</td>\n",
       "      <td>32067</td>\n",
       "    </tr>\n",
       "    <tr>\n",
       "      <td>3</td>\n",
       "      <td>4</td>\n",
       "      <td>24</td>\n",
       "      <td>M</td>\n",
       "      <td>technician</td>\n",
       "      <td>43537</td>\n",
       "    </tr>\n",
       "    <tr>\n",
       "      <td>4</td>\n",
       "      <td>5</td>\n",
       "      <td>33</td>\n",
       "      <td>F</td>\n",
       "      <td>other</td>\n",
       "      <td>15213</td>\n",
       "    </tr>\n",
       "  </tbody>\n",
       "</table>\n",
       "</div>"
      ],
      "text/plain": [
       "   user_id  age sex  occupation zip_code\n",
       "0        1   24   M  technician    85711\n",
       "1        2   53   F       other    94043\n",
       "2        3   23   M      writer    32067\n",
       "3        4   24   M  technician    43537\n",
       "4        5   33   F       other    15213"
      ]
     },
     "execution_count": 7,
     "metadata": {},
     "output_type": "execute_result"
    }
   ],
   "source": [
    "import csv\n",
    "u_columns = ['user_id', 'age', 'sex', 'occupation', 'zip_code']\n",
    "users = pd.read_csv('C:\\\\Users\\\\xbblp1a\\\\movie\\\\ml-100k\\\\u.user', sep = '|', names = u_columns)\n",
    "users.head()"
   ]
  },
  {
   "cell_type": "code",
   "execution_count": 73,
   "metadata": {},
   "outputs": [
    {
     "name": "stdout",
     "output_type": "stream",
     "text": [
      "     user_id  age sex  occupation\n",
      "0          1   24   M  technician\n",
      "3          4   24   M  technician\n",
      "455      456   24   M  technician\n",
      "716      717   24   M  technician\n",
      "831      832   24   M  technician\n",
      "888      889   24   M  technician\n"
     ]
    }
   ],
   "source": [
    "fltr_colm = users[['user_id','age','sex','occupation']]\n",
    "a = fltr_colm[(fltr_colm.sex == 'M')&(fltr_colm.age == 24)&(fltr_colm.occupation == 'technician')]\n",
    "#fltr_colm = users[['user_id','age','sex']]\n",
    "#a.head()\n",
    "print(a)"
   ]
  },
  {
   "cell_type": "code",
   "execution_count": 70,
   "metadata": {},
   "outputs": [
    {
     "name": "stdout",
     "output_type": "stream",
     "text": [
      "     user_id  age sex\n",
      "18        19   40   M\n",
      "82        83   40   M\n",
      "115      116   40   M\n",
      "199      200   40   M\n",
      "283      284   40   M\n",
      "289      290   40   M\n",
      "308      309   40   M\n",
      "357      358   40   M\n",
      "397      398   40   M\n",
      "564      565   40   M\n",
      "646      647   40   M\n",
      "791      792   40   M\n",
      "841      842   40   M\n",
      "917      918   40   M\n"
     ]
    }
   ],
   "source": [
    "b = a[['user_id','age','sex']]\n",
    "print (b)"
   ]
  },
  {
   "cell_type": "code",
   "execution_count": 77,
   "metadata": {},
   "outputs": [
    {
     "name": "stdout",
     "output_type": "stream",
     "text": [
      "          user_id        age\n",
      "count    6.000000   6.000000\n",
      "mean   411.166667  32.166667\n",
      "std    149.987222   5.115336\n",
      "min    292.000000  26.000000\n",
      "25%    313.000000  28.250000\n",
      "50%    378.000000  32.000000\n",
      "75%    416.750000  36.500000\n",
      "max    698.000000  38.000000\n",
      "user_id    411.166667\n",
      "age         32.166667\n",
      "dtype: float64\n",
      "32.166666666666664\n"
     ]
    }
   ],
   "source": [
    "female_prog = fltr_colm[(fltr_colm.sex == 'F')&(fltr_colm.occupation == 'programmer')]\n",
    "print(female_prog.describe())\n",
    "print(female_prog.mean())\n",
    "print(female_prog ['age'].mean())"
   ]
  },
  {
   "cell_type": "code",
   "execution_count": 80,
   "metadata": {},
   "outputs": [
    {
     "name": "stdout",
     "output_type": "stream",
     "text": [
      "       user_id  movie_id  rating  unix_timestamp\n",
      "0          196       242       3       881250949\n",
      "1          186       302       3       891717742\n",
      "2           22       377       1       878887116\n",
      "3          244        51       2       880606923\n",
      "4          166       346       1       886397596\n",
      "...        ...       ...     ...             ...\n",
      "99995      880       476       3       880175444\n",
      "99996      716       204       5       879795543\n",
      "99997      276      1090       1       874795795\n",
      "99998       13       225       2       882399156\n",
      "99999       12       203       3       879959583\n",
      "\n",
      "[100000 rows x 4 columns]\n"
     ]
    }
   ],
   "source": [
    "rating_cols = ['user_id', 'movie_id', 'rating', 'unix_timestamp']\n",
    "ratings = pd.read_csv('C:\\\\Users\\\\xbblp1a\\\\movie\\\\ml-100k\\\\u.data', sep = '\\t', names = rating_cols)\n",
    "print (ratings)"
   ]
  },
  {
   "cell_type": "code",
   "execution_count": 106,
   "metadata": {},
   "outputs": [
    {
     "name": "stdout",
     "output_type": "stream",
     "text": [
      "   user_id  movie_id  rating  unix_timestamp\n",
      "0      196       242       3       881250949\n",
      "1      186       302       3       891717742\n",
      "2       22       377       1       878887116\n",
      "3      244        51       2       880606923\n",
      "4      166       346       1       886397596\n"
     ]
    }
   ],
   "source": [
    "group_data = ratings['movie_id'].groupby(ratings['user_id'])\n",
    "print(ratings.head()) # will print all the columns from initial pull\n",
    "#print (group_data.head()) # will print only two columns\n",
    "#group_data.head()"
   ]
  },
  {
   "cell_type": "code",
   "execution_count": 119,
   "metadata": {},
   "outputs": [
    {
     "name": "stdout",
     "output_type": "stream",
     "text": [
      "movie_id\n",
      "1       3.878319\n",
      "2       3.206107\n",
      "3       3.033333\n",
      "4       3.550239\n",
      "5       3.302326\n",
      "          ...   \n",
      "1678    1.000000\n",
      "1679    3.000000\n",
      "1680    2.000000\n",
      "1681    3.000000\n",
      "1682    3.000000\n",
      "Name: rating, Length: 1682, dtype: float64\n"
     ]
    }
   ],
   "source": [
    "rating_grp_movie = ratings['rating'].groupby(ratings['movie_id'])\n",
    "avg_rating_per_movie = rating_grp_movie.mean()\n",
    "print (avg_rating_per_movie)"
   ]
  },
  {
   "cell_type": "code",
   "execution_count": 89,
   "metadata": {},
   "outputs": [
    {
     "name": "stdout",
     "output_type": "stream",
     "text": [
      "      movie_id                                      title release_date  \\\n",
      "0            1                           Toy Story (1995)  01-Jan-1995   \n",
      "1            2                           GoldenEye (1995)  01-Jan-1995   \n",
      "2            3                          Four Rooms (1995)  01-Jan-1995   \n",
      "3            4                          Get Shorty (1995)  01-Jan-1995   \n",
      "4            5                             Copycat (1995)  01-Jan-1995   \n",
      "...        ...                                        ...          ...   \n",
      "1677      1678                          Mat' i syn (1997)  06-Feb-1998   \n",
      "1678      1679                           B. Monkey (1998)  06-Feb-1998   \n",
      "1679      1680                       Sliding Doors (1998)  01-Jan-1998   \n",
      "1680      1681                        You So Crazy (1994)  01-Jan-1994   \n",
      "1681      1682  Scream of Stone (Schrei aus Stein) (1991)  08-Mar-1996   \n",
      "\n",
      "      video_release_date                                           imdb_url  \n",
      "0                    NaN  http://us.imdb.com/M/title-exact?Toy%20Story%2...  \n",
      "1                    NaN  http://us.imdb.com/M/title-exact?GoldenEye%20(...  \n",
      "2                    NaN  http://us.imdb.com/M/title-exact?Four%20Rooms%...  \n",
      "3                    NaN  http://us.imdb.com/M/title-exact?Get%20Shorty%...  \n",
      "4                    NaN  http://us.imdb.com/M/title-exact?Copycat%20(1995)  \n",
      "...                  ...                                                ...  \n",
      "1677                 NaN  http://us.imdb.com/M/title-exact?Mat%27+i+syn+...  \n",
      "1678                 NaN  http://us.imdb.com/M/title-exact?B%2E+Monkey+(...  \n",
      "1679                 NaN      http://us.imdb.com/Title?Sliding+Doors+(1998)  \n",
      "1680                 NaN  http://us.imdb.com/M/title-exact?You%20So%20Cr...  \n",
      "1681                 NaN  http://us.imdb.com/M/title-exact?Schrei%20aus%...  \n",
      "\n",
      "[1682 rows x 5 columns]\n"
     ]
    }
   ],
   "source": [
    "movies_cols = ['movie_id', 'title', 'release_date', 'video_release_date', 'imdb_url']\n",
    "movies = pd.read_csv('C:\\\\Users\\\\xbblp1a\\\\movie\\\\ml-100k\\\\u.item', sep = '|', names = movies_cols, usecols = range(5))\n",
    "print (movies)"
   ]
  },
  {
   "cell_type": "code",
   "execution_count": 134,
   "metadata": {},
   "outputs": [
    {
     "name": "stdout",
     "output_type": "stream",
     "text": [
      "813                         Great Day in Harlem, A (1994)\n",
      "1121                       They Made Me a Criminal (1939)\n",
      "1188                                   Prefontaine (1997)\n",
      "1200           Marlene Dietrich: Shadow and Light (1996) \n",
      "1292                                      Star Kid (1997)\n",
      "1466                 Saint of Fort Washington, The (1993)\n",
      "1499                            Santa with Muscles (1996)\n",
      "1535                                 Aiqing wansui (1994)\n",
      "1598                        Someone Else's America (1995)\n",
      "1652    Entertaining Angels: The Dorothy Day Story (1996)\n",
      "Name: title, dtype: object\n"
     ]
    }
   ],
   "source": [
    "top_rated_movie = avg_rating_per_movie.max()\n",
    "top_movie_title = avg_rating_per_movie[avg_rating_per_movie == top_rated_movie].index\n",
    "print (movies[movies.movie_id.isin(top_movie_title)].title)\n",
    "#print (top_movie_title)"
   ]
  },
  {
   "cell_type": "code",
   "execution_count": null,
   "metadata": {},
   "outputs": [],
   "source": []
  },
  {
   "cell_type": "code",
   "execution_count": null,
   "metadata": {},
   "outputs": [],
   "source": []
  },
  {
   "cell_type": "code",
   "execution_count": null,
   "metadata": {},
   "outputs": [],
   "source": []
  },
  {
   "cell_type": "code",
   "execution_count": null,
   "metadata": {},
   "outputs": [],
   "source": []
  },
  {
   "cell_type": "code",
   "execution_count": 93,
   "metadata": {},
   "outputs": [
    {
     "name": "stdout",
     "output_type": "stream",
     "text": [
      "movie_id                int64\n",
      "title                  object\n",
      "release_date           object\n",
      "video_release_date    float64\n",
      "imdb_url               object\n",
      "dtype: object\n",
      "          movie_id  video_release_date\n",
      "count  1682.000000                 0.0\n",
      "mean    841.500000                 NaN\n",
      "std     485.695893                 NaN\n",
      "min       1.000000                 NaN\n",
      "25%     421.250000                 NaN\n",
      "50%     841.500000                 NaN\n",
      "75%    1261.750000                 NaN\n",
      "max    1682.000000                 NaN\n"
     ]
    }
   ],
   "source": [
    "print (movies.dtypes)\n",
    "print (movies.describe())"
   ]
  },
  {
   "cell_type": "code",
   "execution_count": null,
   "metadata": {},
   "outputs": [],
   "source": []
  }
 ],
 "metadata": {
  "kernelspec": {
   "display_name": "Python 3",
   "language": "python",
   "name": "python3"
  },
  "language_info": {
   "codemirror_mode": {
    "name": "ipython",
    "version": 3
   },
   "file_extension": ".py",
   "mimetype": "text/x-python",
   "name": "python",
   "nbconvert_exporter": "python",
   "pygments_lexer": "ipython3",
   "version": "3.7.4"
  }
 },
 "nbformat": 4,
 "nbformat_minor": 2
}
